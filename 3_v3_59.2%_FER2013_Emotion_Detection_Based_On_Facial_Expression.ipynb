{
  "cells": [
    {
      "cell_type": "code",
      "execution_count": 1,
      "metadata": {
        "colab": {
          "base_uri": "https://localhost:8080/"
        },
        "id": "MkHvMl6sVf3r",
        "outputId": "a7796d85-d97c-4b5a-f5f5-2fa9270c5d92"
      },
      "outputs": [
        {
          "output_type": "stream",
          "name": "stdout",
          "text": [
            "Tue May 10 11:09:53 2022       \n",
            "+-----------------------------------------------------------------------------+\n",
            "| NVIDIA-SMI 460.32.03    Driver Version: 460.32.03    CUDA Version: 11.2     |\n",
            "|-------------------------------+----------------------+----------------------+\n",
            "| GPU  Name        Persistence-M| Bus-Id        Disp.A | Volatile Uncorr. ECC |\n",
            "| Fan  Temp  Perf  Pwr:Usage/Cap|         Memory-Usage | GPU-Util  Compute M. |\n",
            "|                               |                      |               MIG M. |\n",
            "|===============================+======================+======================|\n",
            "|   0  Tesla T4            Off  | 00000000:00:04.0 Off |                    0 |\n",
            "| N/A   40C    P8     9W /  70W |      0MiB / 15109MiB |      0%      Default |\n",
            "|                               |                      |                  N/A |\n",
            "+-------------------------------+----------------------+----------------------+\n",
            "                                                                               \n",
            "+-----------------------------------------------------------------------------+\n",
            "| Processes:                                                                  |\n",
            "|  GPU   GI   CI        PID   Type   Process name                  GPU Memory |\n",
            "|        ID   ID                                                   Usage      |\n",
            "|=============================================================================|\n",
            "|  No running processes found                                                 |\n",
            "+-----------------------------------------------------------------------------+\n"
          ]
        }
      ],
      "source": [
        "gpu_info = !nvidia-smi\n",
        "gpu_info = '\\n'.join(gpu_info)\n",
        "if gpu_info.find('failed') >= 0:\n",
        "  print('Not connected to a GPU')\n",
        "else:\n",
        "  print(gpu_info)"
      ]
    },
    {
      "cell_type": "code",
      "execution_count": 2,
      "metadata": {
        "colab": {
          "base_uri": "https://localhost:8080/"
        },
        "id": "vWQ-79XbfM4G",
        "outputId": "59ea0073-5eee-4198-b246-979cfb0f5e28"
      },
      "outputs": [
        {
          "output_type": "stream",
          "name": "stdout",
          "text": [
            "Drive already mounted at /content/drive; to attempt to forcibly remount, call drive.mount(\"/content/drive\", force_remount=True).\n"
          ]
        }
      ],
      "source": [
        "from google.colab import drive\n",
        "drive.mount('/content/drive')"
      ]
    },
    {
      "cell_type": "markdown",
      "metadata": {
        "id": "k9N8qNg6fWMd"
      },
      "source": [
        "Imports"
      ]
    },
    {
      "cell_type": "code",
      "execution_count": 3,
      "metadata": {
        "id": "PpHCi9vnfaIc"
      },
      "outputs": [],
      "source": [
        "import torch\n",
        "import torch.nn as nn\n",
        "import torch.nn.functional as F\n",
        "from torch.utils.data import DataLoader\n",
        "from torchvision import datasets, transforms, models\n",
        "from torchvision.utils import make_grid\n",
        "import os\n",
        "import cv2\n",
        "import numpy as np\n",
        "import pandas as pd\n",
        "from sklearn.metrics import confusion_matrix\n",
        "import matplotlib.pyplot as plt\n",
        "from PIL import Image\n",
        "from IPython.display import display\n",
        "import warnings\n",
        "warnings.filterwarnings(\"ignore\")\n",
        "%matplotlib inline"
      ]
    },
    {
      "cell_type": "markdown",
      "metadata": {
        "id": "Qvzx--RnfjE7"
      },
      "source": [
        "Find Normalization"
      ]
    },
    {
      "cell_type": "code",
      "execution_count": 4,
      "metadata": {
        "colab": {
          "base_uri": "https://localhost:8080/",
          "height": 65
        },
        "id": "9Q92Vl0ifjlT",
        "outputId": "edaf9a06-b99c-4452-9424-546d6c908ed4"
      },
      "outputs": [
        {
          "output_type": "display_data",
          "data": {
            "text/plain": [
              "<PIL.JpegImagePlugin.JpegImageFile image mode=L size=48x48 at 0x7F5CC73F2910>"
            ],
            "image/png": "[encoded data removed]"
          },
          "metadata": {}
        }
      ],
      "source": [
        "img_path = '../content/drive/MyDrive/Colab Notebooks/FER2013/train/angry/Training_3908.jpg'\n",
        "img = Image.open(img_path)\n",
        "display(img)"
      ]
    },
    {
      "cell_type": "code",
      "source": [
        "img_np = np.array(img)"
      ],
      "metadata": {
        "id": "LmQgYCw1fki9"
      },
      "execution_count": 5,
      "outputs": []
    },
    {
      "cell_type": "code",
      "source": [
        "plt.hist(img_np.ravel(), bins=50, density=True)\n",
        "plt.xlabel(\"pixel values\")\n",
        "plt.ylabel(\"relative frequency\")\n",
        "plt.title(\"distribution of pixels\")"
      ],
      "metadata": {
        "colab": {
          "base_uri": "https://localhost:8080/",
          "height": 313
        },
        "id": "c2u5mIkJfl_U",
        "outputId": "743669a3-ceba-4015-d76b-f6dd2e876544"
      },
      "execution_count": 6,
      "outputs": [
        {
          "output_type": "execute_result",
          "data": {
            "text/plain": [
              "Text(0.5, 1.0, 'distribution of pixels')"
            ]
          },
          "metadata": {},
          "execution_count": 6
        },
        {
          "output_type": "display_data",
          "data": {
            "text/plain": [
              "<Figure size 432x288 with 1 Axes>"
            ],
            "image/png": "[encoded data removed]"
          },
          "metadata": {
            "needs_background": "light"
          }
        }
      ]
    },
    {
      "cell_type": "code",
      "source": [
        "transform_img = transforms.Compose([\n",
        "    transforms.ToTensor()\n",
        "])"
      ],
      "metadata": {
        "id": "qKLLfFemfrnN"
      },
      "execution_count": 7,
      "outputs": []
    },
    {
      "cell_type": "code",
      "source": [
        "img_tr = transform_img(img)\n",
        "  \n",
        "img_np = np.array(img_tr)"
      ],
      "metadata": {
        "id": "yzrvNM1dftOO"
      },
      "execution_count": 8,
      "outputs": []
    },
    {
      "cell_type": "code",
      "source": [
        "plt.hist(img_np.ravel(), bins=50, density=True)\n",
        "plt.xlabel(\"pixel values\")\n",
        "plt.ylabel(\"relative frequency\")\n",
        "plt.title(\"distribution of pixels\")"
      ],
      "metadata": {
        "colab": {
          "base_uri": "https://localhost:8080/",
          "height": 313
        },
        "id": "z5p6zq11fuYl",
        "outputId": "63ed2bcd-0475-424c-ca2d-fa6d741ee0e2"
      },
      "execution_count": 9,
      "outputs": [
        {
          "output_type": "execute_result",
          "data": {
            "text/plain": [
              "Text(0.5, 1.0, 'distribution of pixels')"
            ]
          },
          "metadata": {},
          "execution_count": 9
        },
        {
          "output_type": "display_data",
          "data": {
            "text/plain": [
              "<Figure size 432x288 with 1 Axes>"
            ],
            "image/png": "[encoded data removed]"
          },
          "metadata": {
            "needs_background": "light"
          }
        }
      ]
    },
    {
      "cell_type": "code",
      "source": [
        "mean, std = img_tr.mean([1,2]), img_tr.std([1,2])"
      ],
      "metadata": {
        "id": "Y_7WyMM8fwF_"
      },
      "execution_count": 10,
      "outputs": []
    },
    {
      "cell_type": "code",
      "source": [
        "print(\"mean and std before normalize:\")\n",
        "print(\"Mean of the image:\", mean)\n",
        "print(\"Std of the image:\", std)"
      ],
      "metadata": {
        "colab": {
          "base_uri": "https://localhost:8080/"
        },
        "id": "M8sM66ZJfxdW",
        "outputId": "a91a6033-ffdf-4436-ae19-1a785fb49a54"
      },
      "execution_count": 11,
      "outputs": [
        {
          "output_type": "stream",
          "name": "stdout",
          "text": [
            "mean and std before normalize:\n",
            "Mean of the image: tensor([0.4954])\n",
            "Std of the image: tensor([0.2112])\n"
          ]
        }
      ]
    },
    {
      "cell_type": "markdown",
      "source": [
        "Visualization"
      ],
      "metadata": {
        "id": "mQt76hMqf0NU"
      }
    },
    {
      "cell_type": "markdown",
      "source": [
        ""
      ],
      "metadata": {
        "id": "rrbgnyLXf0L9"
      }
    },
    {
      "cell_type": "code",
      "execution_count": 12,
      "metadata": {
        "colab": {
          "base_uri": "https://localhost:8080/",
          "height": 1000
        },
        "id": "kpH-hcq-fpqb",
        "outputId": "fad3f679-b98a-4b0d-b554-7612c16184f7"
      },
      "outputs": [
        {
          "output_type": "display_data",
          "data": {
            "text/plain": [
              "<Figure size 432x288 with 1 Axes>"
            ],
            "image/png": "[encoded data removed]"
          },
          "metadata": {
            "needs_background": "light"
          }
        },
        {
          "output_type": "display_data",
          "data": {
            "text/plain": [
              "<Figure size 432x288 with 1 Axes>"
            ],
            "image/png": "[encoded data removed]"
          },
          "metadata": {
            "needs_background": "light"
          }
        },
        {
          "output_type": "display_data",
          "data": {
            "text/plain": [
              "<Figure size 432x288 with 1 Axes>"
            ],
            "image/png": "[encoded data removed]"
          },
          "metadata": {
            "needs_background": "light"
          }
        },
        {
          "output_type": "display_data",
          "data": {
            "text/plain": [
              "<Figure size 432x288 with 1 Axes>"
            ],
            "image/png": "[encoded data removed]"
          },
          "metadata": {
            "needs_background": "light"
          }
        },
        {
          "output_type": "display_data",
          "data": {
            "text/plain": [
              "<Figure size 432x288 with 1 Axes>"
            ],
            "image/png": "[encoded data removed]"
          },
          "metadata": {
            "needs_background": "light"
          }
        },
        {
          "output_type": "display_data",
          "data": {
            "text/plain": [
              "<Figure size 432x288 with 1 Axes>"
            ],
            "image/png": "[encoded data removed]"
          },
          "metadata": {
            "needs_background": "light"
          }
        },
        {
          "output_type": "display_data",
          "data": {
            "text/plain": [
              "<Figure size 432x288 with 1 Axes>"
            ],
            "image/png": "[encoded data removed]"
          },
          "metadata": {
            "needs_background": "light"
          }
        }
      ],
      "source": [
        "# Visualize one image from each category of the dataset\n",
        "\n",
        "data_dir = ('../content/drive/MyDrive/Colab Notebooks/FER2013/train')\n",
        "categories = ['angry', 'disgust', 'fear', 'happy', 'neutral', 'sad', 'surprise']\n",
        "for i in categories:\n",
        "    path = os.path.join(data_dir, i)\n",
        "    num = 0\n",
        "    \n",
        "    for img in os.listdir(path):\n",
        "        \n",
        "        if num == 1:\n",
        "            break\n",
        "        \n",
        "        else:\n",
        "            img_array = cv2.imread(os.path.join(path,img))\n",
        "            img_array = cv2.resize(img_array, (48, 48))\n",
        "            plt.imshow(img_array)\n",
        "            plt.title(i)\n",
        "            plt.show()\n",
        "            num +=1"
      ]
    },
    {
      "cell_type": "code",
      "execution_count": 13,
      "metadata": {
        "colab": {
          "base_uri": "https://localhost:8080/"
        },
        "id": "LsukqpzpxxiW",
        "outputId": "43997b32-4d80-4f5b-f1ea-61c2f82e2f52"
      },
      "outputs": [
        {
          "output_type": "execute_result",
          "data": {
            "text/plain": [
              "(48, 48, 3)"
            ]
          },
          "metadata": {},
          "execution_count": 13
        }
      ],
      "source": [
        "image_files = os.listdir(path)\n",
        "image = os.path.join(path, image_files[0])\n",
        "image = cv2.imread(image)\n",
        "image.shape"
      ]
    },
    {
      "cell_type": "markdown",
      "metadata": {
        "id": "lb5xnEVPyGDb"
      },
      "source": [
        "Define Transforms"
      ]
    },
    {
      "cell_type": "code",
      "execution_count": 14,
      "metadata": {
        "id": "GDSJ2feEyGds"
      },
      "outputs": [],
      "source": [
        "from torchvision.transforms.transforms import RandomHorizontalFlip\n",
        "train_transform = transforms.Compose([\n",
        "      # transforms.CenterCrop(40),\n",
        "      # transforms.RandomHorizontalFlip(),\n",
        "      transforms.ToTensor(),\n",
        "      # transforms.Pad(15),\n",
        "      # transforms.Resize(48),\n",
        "      transforms.Normalize(mean, std),\n",
        "])\n",
        "\n",
        "test_transform = transforms.Compose([\n",
        "      # transforms.CenterCrop(40),\n",
        "      transforms.ToTensor(),\n",
        "      # transforms.Pad(15),\n",
        "      # transforms.Resize(48),\n",
        "      transforms.Normalize(mean, std),\n",
        "])"
      ]
    },
    {
      "cell_type": "markdown",
      "metadata": {
        "id": "2DwLy0H0yJd0"
      },
      "source": [
        "Datasets"
      ]
    },
    {
      "cell_type": "code",
      "execution_count": 15,
      "metadata": {
        "id": "b27s1zJByLGc"
      },
      "outputs": [],
      "source": [
        "root = '../content/drive/MyDrive/Colab Notebooks/FER2013/'\n",
        "\n",
        "train_data = datasets.ImageFolder(os.path.join(root, 'train'), transform=train_transform)\n",
        "test_data = datasets.ImageFolder(os.path.join(root, 'test'), transform=test_transform)"
      ]
    },
    {
      "cell_type": "code",
      "execution_count": 16,
      "metadata": {
        "colab": {
          "base_uri": "https://localhost:8080/"
        },
        "id": "TNMiH7uayVdk",
        "outputId": "47165097-4ec4-4980-af6b-8cea8d148de3"
      },
      "outputs": [
        {
          "output_type": "execute_result",
          "data": {
            "text/plain": [
              "(Dataset ImageFolder\n",
              "     Number of datapoints: 28709\n",
              "     Root location: ../content/drive/MyDrive/Colab Notebooks/FER2013/train\n",
              "     StandardTransform\n",
              " Transform: Compose(\n",
              "                ToTensor()\n",
              "                Normalize(mean=tensor([0.4954]), std=tensor([0.2112]))\n",
              "            ), Dataset ImageFolder\n",
              "     Number of datapoints: 7178\n",
              "     Root location: ../content/drive/MyDrive/Colab Notebooks/FER2013/test\n",
              "     StandardTransform\n",
              " Transform: Compose(\n",
              "                ToTensor()\n",
              "                Normalize(mean=tensor([0.4954]), std=tensor([0.2112]))\n",
              "            ))"
            ]
          },
          "metadata": {},
          "execution_count": 16
        }
      ],
      "source": [
        "train_data, test_data"
      ]
    },
    {
      "cell_type": "markdown",
      "metadata": {
        "id": "YEqntNUnycGM"
      },
      "source": [
        "Load Data"
      ]
    },
    {
      "cell_type": "code",
      "execution_count": 17,
      "metadata": {
        "id": "Bxl1Bf1Bycfc"
      },
      "outputs": [],
      "source": [
        "torch.manual_seed(1234)\n",
        "train_loader = DataLoader(train_data, batch_size=30, shuffle=True)\n",
        "test_loader = DataLoader(test_data, batch_size=30, shuffle=True)\n",
        "\n",
        "class_names = train_data.classes"
      ]
    },
    {
      "cell_type": "code",
      "execution_count": 18,
      "metadata": {
        "colab": {
          "base_uri": "https://localhost:8080/"
        },
        "id": "LTQYYq8tygZr",
        "outputId": "1555507d-d3c8-4b96-db65-cca7398e66d2"
      },
      "outputs": [
        {
          "output_type": "stream",
          "name": "stdout",
          "text": [
            "['angry', 'disgust', 'fear', 'happy', 'neutral', 'sad', 'surprise']\n",
            "Training images available: 28709\n",
            "Testing images available:  7178\n"
          ]
        }
      ],
      "source": [
        "print(class_names)\n",
        "print(f'Training images available: {len(train_data)}')\n",
        "print(f'Testing images available:  {len(test_data)}')"
      ]
    },
    {
      "cell_type": "markdown",
      "metadata": {
        "id": "TLdyuIZ9yi6L"
      },
      "source": [
        "Display a batch of image"
      ]
    },
    {
      "cell_type": "code",
      "execution_count": 19,
      "metadata": {
        "colab": {
          "base_uri": "https://localhost:8080/",
          "height": 360
        },
        "id": "cbp6IwKAykPL",
        "outputId": "027923be-fce5-469a-9937-e3252998b9b8"
      },
      "outputs": [
        {
          "output_type": "stream",
          "name": "stderr",
          "text": [
            "Clipping input data to the valid range for imshow with RGB data ([0..1] for floats or [0..255] for integers).\n"
          ]
        },
        {
          "output_type": "stream",
          "name": "stdout",
          "text": [
            "torch.Size([30, 3, 48, 48])\n",
            "Label: [4 6 3 0 3 5 4 5 2 3 2 0 5 2 0 3 0 3 4 3 5 4 2 0 2 2 3 4 5 3]\n",
            "Class: neutral surprise happy angry happy sad neutral sad fear happy fear angry sad fear angry happy angry happy neutral happy sad neutral fear angry fear fear happy neutral sad happy\n"
          ]
        },
        {
          "output_type": "display_data",
          "data": {
            "text/plain": [
              "<Figure size 864x288 with 1 Axes>"
            ],
            "image/png": "[encoded data removed]"
          },
          "metadata": {
            "needs_background": "light"
          }
        }
      ],
      "source": [
        "# Grab the first batch of 10 images\n",
        "for images,labels in train_loader: \n",
        "    break\n",
        "\n",
        "print(images.shape)\n",
        "# Print the labels\n",
        "print('Label:', labels.numpy())\n",
        "print('Class:', *np.array([class_names[i] for i in labels]))\n",
        "\n",
        "im = make_grid(images, nrow=5)  # the default nrow is 8\n",
        "\n",
        "# Inverse normalize the images\n",
        "inv_normalize = transforms.Normalize(\n",
        "    mean=[-0.485/0.229, -0.456/0.224, -0.406/0.225],\n",
        "    std=[1/0.229, 1/0.224, 1/0.225]\n",
        ")\n",
        "im_inv = inv_normalize(im)\n",
        "\n",
        "# Print the images\n",
        "plt.figure(figsize=(12,4))\n",
        "plt.imshow(np.transpose(im_inv.numpy(), (1, 2, 0)));"
      ]
    },
    {
      "cell_type": "markdown",
      "metadata": {
        "id": "qYfUN0poyyKr"
      },
      "source": [
        "Check the shape"
      ]
    },
    {
      "cell_type": "code",
      "execution_count": 20,
      "metadata": {
        "id": "eWvAxDsSyutL"
      },
      "outputs": [],
      "source": [
        "conv1 = nn.Conv2d(3, 6, 3, 1)\n",
        "conv2 = nn.Conv2d(6, 16, 3, 1)\n",
        "conv3 = nn.Conv2d(16, 32, 3, 1)\n",
        "conv4 = nn.Conv2d(32, 64, 3, 1)\n",
        "dr = nn.Dropout(0.3)\n",
        "bn1 = nn.BatchNorm2d(6)\n",
        "bn2 = nn.BatchNorm2d(16)\n",
        "bn3 = nn.BatchNorm2d(32)\n",
        "bn4 = nn.BatchNorm2d(64)"
      ]
    },
    {
      "cell_type": "code",
      "execution_count": 21,
      "metadata": {
        "id": "vSFkmngWywhk"
      },
      "outputs": [],
      "source": [
        "# Grab the first record\n",
        "for i, (X_train, y_train) in enumerate(train_data):\n",
        "    break"
      ]
    },
    {
      "cell_type": "code",
      "execution_count": 22,
      "metadata": {
        "colab": {
          "base_uri": "https://localhost:8080/"
        },
        "id": "Kxa_pZ73y3It",
        "outputId": "e1aa511a-0446-4ae3-aeae-fd93db271651"
      },
      "outputs": [
        {
          "output_type": "stream",
          "name": "stdout",
          "text": [
            "torch.Size([1, 3, 48, 48])\n"
          ]
        }
      ],
      "source": [
        "# Create a rank-4 tensor to be passed into the model\n",
        "# (train_loader will have done this already)\n",
        "x = X_train.view(1, 3, 48, 48)\n",
        "print(x.shape)"
      ]
    },
    {
      "cell_type": "code",
      "execution_count": 23,
      "metadata": {
        "colab": {
          "base_uri": "https://localhost:8080/"
        },
        "id": "krp2QxWVy6ZM",
        "outputId": "fedf510d-c597-4ad3-f0b7-e6231fe36a52"
      },
      "outputs": [
        {
          "output_type": "execute_result",
          "data": {
            "text/plain": [
              "tensor([[[[-1.4169, -1.7511, -2.0667,  ...,  0.1240,  0.4582, -0.7486],\n",
              "          [-1.2870, -1.7140, -1.9368,  ...,  0.2168,  0.4582, -0.6929],\n",
              "          [-1.2127, -1.7883, -1.8996,  ...,  0.2911,  0.4210, -0.6929],\n",
              "          ...,\n",
              "          [-0.4330, -0.4887, -0.4887,  ...,  0.4210, -0.4144, -0.7671],\n",
              "          [-0.3587, -0.2844, -0.2473,  ...,  0.4582, -0.1174, -0.7486],\n",
              "          [-0.4144, -0.4144, -0.2659,  ...,  0.3097,  0.1797, -0.8043]],\n",
              "\n",
              "         [[-1.4169, -1.7511, -2.0667,  ...,  0.1240,  0.4582, -0.7486],\n",
              "          [-1.2870, -1.7140, -1.9368,  ...,  0.2168,  0.4582, -0.6929],\n",
              "          [-1.2127, -1.7883, -1.8996,  ...,  0.2911,  0.4210, -0.6929],\n",
              "          ...,\n",
              "          [-0.4330, -0.4887, -0.4887,  ...,  0.4210, -0.4144, -0.7671],\n",
              "          [-0.3587, -0.2844, -0.2473,  ...,  0.4582, -0.1174, -0.7486],\n",
              "          [-0.4144, -0.4144, -0.2659,  ...,  0.3097,  0.1797, -0.8043]],\n",
              "\n",
              "         [[-1.4169, -1.7511, -2.0667,  ...,  0.1240,  0.4582, -0.7486],\n",
              "          [-1.2870, -1.7140, -1.9368,  ...,  0.2168,  0.4582, -0.6929],\n",
              "          [-1.2127, -1.7883, -1.8996,  ...,  0.2911,  0.4210, -0.6929],\n",
              "          ...,\n",
              "          [-0.4330, -0.4887, -0.4887,  ...,  0.4210, -0.4144, -0.7671],\n",
              "          [-0.3587, -0.2844, -0.2473,  ...,  0.4582, -0.1174, -0.7486],\n",
              "          [-0.4144, -0.4144, -0.2659,  ...,  0.3097,  0.1797, -0.8043]]]])"
            ]
          },
          "metadata": {},
          "execution_count": 23
        }
      ],
      "source": [
        "x"
      ]
    },
    {
      "cell_type": "code",
      "execution_count": 24,
      "metadata": {
        "colab": {
          "base_uri": "https://localhost:8080/"
        },
        "id": "oTEuXUcFy8K0",
        "outputId": "15397656-7c89-4f6b-b6d3-c68c09a8a52d"
      },
      "outputs": [
        {
          "output_type": "execute_result",
          "data": {
            "text/plain": [
              "torch.Size([1, 6, 46, 46])"
            ]
          },
          "metadata": {},
          "execution_count": 24
        }
      ],
      "source": [
        "# Perform the first convolution/activation\n",
        "x = F.relu(conv1(x))\n",
        "x.shape"
      ]
    },
    {
      "cell_type": "code",
      "source": [
        "x = bn1(x)\n",
        "x.shape"
      ],
      "metadata": {
        "colab": {
          "base_uri": "https://localhost:8080/"
        },
        "id": "5BhLr6vEgJNH",
        "outputId": "18326bde-4b98-499f-fafe-b067a3dea871"
      },
      "execution_count": 25,
      "outputs": [
        {
          "output_type": "execute_result",
          "data": {
            "text/plain": [
              "torch.Size([1, 6, 46, 46])"
            ]
          },
          "metadata": {},
          "execution_count": 25
        }
      ]
    },
    {
      "cell_type": "code",
      "execution_count": 26,
      "metadata": {
        "colab": {
          "base_uri": "https://localhost:8080/"
        },
        "id": "_xtVYI7qqeaW",
        "outputId": "d5eded86-1169-410e-fda1-65a7ecbe3dfe"
      },
      "outputs": [
        {
          "output_type": "stream",
          "name": "stdout",
          "text": [
            "torch.Size([1, 16, 44, 44])\n"
          ]
        }
      ],
      "source": [
        "# Perform the second convolution/activation\n",
        "x = F.relu(conv2(x))\n",
        "print(x.shape)"
      ]
    },
    {
      "cell_type": "code",
      "source": [
        "x = bn2(x)\n",
        "x.shape"
      ],
      "metadata": {
        "colab": {
          "base_uri": "https://localhost:8080/"
        },
        "id": "EoWmVwVlgLOO",
        "outputId": "1723ebd7-e6da-411e-fd39-9a0357e791f8"
      },
      "execution_count": 27,
      "outputs": [
        {
          "output_type": "execute_result",
          "data": {
            "text/plain": [
              "torch.Size([1, 16, 44, 44])"
            ]
          },
          "metadata": {},
          "execution_count": 27
        }
      ]
    },
    {
      "cell_type": "code",
      "source": [
        "x = dr(x)\n",
        "x.shape"
      ],
      "metadata": {
        "colab": {
          "base_uri": "https://localhost:8080/"
        },
        "id": "0DdCPOJ6gNTA",
        "outputId": "64716f14-2091-49d4-af7c-c0e89fc3897c"
      },
      "execution_count": 28,
      "outputs": [
        {
          "output_type": "execute_result",
          "data": {
            "text/plain": [
              "torch.Size([1, 16, 44, 44])"
            ]
          },
          "metadata": {},
          "execution_count": 28
        }
      ]
    },
    {
      "cell_type": "code",
      "execution_count": 29,
      "metadata": {
        "colab": {
          "base_uri": "https://localhost:8080/"
        },
        "id": "rUiqoyijy-gL",
        "outputId": "97a0748e-0403-43ee-aea0-c2b5973322fc"
      },
      "outputs": [
        {
          "output_type": "stream",
          "name": "stdout",
          "text": [
            "torch.Size([1, 16, 22, 22])\n"
          ]
        }
      ],
      "source": [
        "# Run the first pooling layer\n",
        "x = F.max_pool2d(x, 2, 2)\n",
        "print(x.shape)"
      ]
    },
    {
      "cell_type": "code",
      "source": [
        "# Perform the third convolution/activation\n",
        "x = F.relu(conv3(x))\n",
        "print(x.shape)"
      ],
      "metadata": {
        "colab": {
          "base_uri": "https://localhost:8080/"
        },
        "id": "5AxCxNujB1Cc",
        "outputId": "10ec0941-36df-42f9-bb7d-4ecb7668dda8"
      },
      "execution_count": 30,
      "outputs": [
        {
          "output_type": "stream",
          "name": "stdout",
          "text": [
            "torch.Size([1, 32, 20, 20])\n"
          ]
        }
      ]
    },
    {
      "cell_type": "code",
      "source": [
        "x = bn3(x)\n",
        "x.shape"
      ],
      "metadata": {
        "colab": {
          "base_uri": "https://localhost:8080/"
        },
        "id": "iWauJxezB4Sz",
        "outputId": "d5d105c2-1935-4b45-d197-b851bab4eeec"
      },
      "execution_count": 31,
      "outputs": [
        {
          "output_type": "execute_result",
          "data": {
            "text/plain": [
              "torch.Size([1, 32, 20, 20])"
            ]
          },
          "metadata": {},
          "execution_count": 31
        }
      ]
    },
    {
      "cell_type": "code",
      "source": [
        "# Perform the fourth convolution/activation\n",
        "x = F.relu(conv4(x))\n",
        "print(x.shape)"
      ],
      "metadata": {
        "colab": {
          "base_uri": "https://localhost:8080/"
        },
        "id": "SlvaVG9wB7ys",
        "outputId": "2b3f246d-8ef0-406d-db83-81b0327002bd"
      },
      "execution_count": 32,
      "outputs": [
        {
          "output_type": "stream",
          "name": "stdout",
          "text": [
            "torch.Size([1, 64, 18, 18])\n"
          ]
        }
      ]
    },
    {
      "cell_type": "code",
      "source": [
        "x = bn4(x)\n",
        "x.shape"
      ],
      "metadata": {
        "colab": {
          "base_uri": "https://localhost:8080/"
        },
        "id": "OS60dukfB9DM",
        "outputId": "03a62356-0101-4fc1-963e-c7f74c10c074"
      },
      "execution_count": 33,
      "outputs": [
        {
          "output_type": "execute_result",
          "data": {
            "text/plain": [
              "torch.Size([1, 64, 18, 18])"
            ]
          },
          "metadata": {},
          "execution_count": 33
        }
      ]
    },
    {
      "cell_type": "code",
      "source": [
        "x = dr(x)\n",
        "x.shape"
      ],
      "metadata": {
        "colab": {
          "base_uri": "https://localhost:8080/"
        },
        "id": "z0e7PiBTB-rL",
        "outputId": "86e7d164-5fc1-4235-bae0-e0e98752e163"
      },
      "execution_count": 34,
      "outputs": [
        {
          "output_type": "execute_result",
          "data": {
            "text/plain": [
              "torch.Size([1, 64, 18, 18])"
            ]
          },
          "metadata": {},
          "execution_count": 34
        }
      ]
    },
    {
      "cell_type": "code",
      "source": [
        "# Run the second pooling layer\n",
        "x = F.max_pool2d(x, 2, 2)\n",
        "print(x.shape)"
      ],
      "metadata": {
        "colab": {
          "base_uri": "https://localhost:8080/"
        },
        "id": "iXF4TTYwCAyW",
        "outputId": "79f296c7-2aea-4ca2-a2cd-ef16adbd6132"
      },
      "execution_count": 35,
      "outputs": [
        {
          "output_type": "stream",
          "name": "stdout",
          "text": [
            "torch.Size([1, 64, 9, 9])\n"
          ]
        }
      ]
    },
    {
      "cell_type": "code",
      "execution_count": 36,
      "metadata": {
        "colab": {
          "base_uri": "https://localhost:8080/"
        },
        "id": "Pg4LfdlXqh5m",
        "outputId": "f97f8384-11e3-4edb-a9be-ea6a735b77f3"
      },
      "outputs": [
        {
          "output_type": "stream",
          "name": "stdout",
          "text": [
            "torch.Size([1, 5184])\n"
          ]
        }
      ],
      "source": [
        "# Flatten the data\n",
        "x = x.view(-1, 64*9*9)\n",
        "print(x.shape)"
      ]
    },
    {
      "cell_type": "markdown",
      "metadata": {
        "id": "lNDxU3buzGCT"
      },
      "source": [
        "Define CNN model"
      ]
    },
    {
      "cell_type": "code",
      "execution_count": 37,
      "metadata": {
        "id": "jtgrRpG_zGUb"
      },
      "outputs": [],
      "source": [
        "class ConvolutionalNetwork(nn.Module):\n",
        "    def __init__(self):\n",
        "        super().__init__()\n",
        "        self.conv1 = nn.Conv2d(3, 6, 3, 1)\n",
        "        self.conv2 = nn.Conv2d(6, 16, 3, 1)\n",
        "        self.conv3 = nn.Conv2d(16, 32, 3, 1)\n",
        "        self.conv4 = nn.Conv2d(32, 64, 3, 1)\n",
        "        self.dr = nn.Dropout(0.25)\n",
        "        self.bn1 = nn.BatchNorm2d(6)\n",
        "        self.bn2 = nn.BatchNorm2d(16)\n",
        "        self.bn3 = nn.BatchNorm2d(32)\n",
        "        self.bn4 = nn.BatchNorm2d(64)\n",
        "        self.fc1 = nn.Linear(64*9*9, 120)\n",
        "        self.fc2 = nn.Linear(120, 84)\n",
        "        self.fc3 = nn.Linear(84, 7)\n",
        "        self.bnc1 = nn.BatchNorm1d(120)\n",
        "        self.bnc2 = nn.BatchNorm1d(84)\n",
        "\n",
        "    def forward(self, X):\n",
        "        X = F.relu(self.conv1(X))\n",
        "        X = self.bn1(X)\n",
        "        X = F.relu(self.conv2(X))\n",
        "        X = self.bn2(X)\n",
        "        X = self.dr(X)\n",
        "        X = F.max_pool2d(X, 2, 2)\n",
        "        X = F.relu(self.conv3(X))\n",
        "        X = self.bn3(X)\n",
        "        X = F.relu(self.conv4(X))\n",
        "        X = self.bn4(X)\n",
        "        X = self.dr(X)\n",
        "        X = F.max_pool2d(X, 2, 2)\n",
        "        X = X.view(-1, 64*9*9)\n",
        "        X = F.relu(self.fc1(X))\n",
        "        X = self.bnc1(X)\n",
        "        X = F.relu(self.fc2(X))\n",
        "        X = self.bnc2(X)\n",
        "        X = self.fc3(X)\n",
        "        X = self.dr(X)\n",
        "        return F.log_softmax(X, dim=1)"
      ]
    },
    {
      "cell_type": "markdown",
      "metadata": {
        "id": "LaAvGdr0zJ3k"
      },
      "source": [
        "Define loss and activation function"
      ]
    },
    {
      "cell_type": "code",
      "execution_count": 38,
      "metadata": {
        "id": "SWw9FFkwzKNL"
      },
      "outputs": [],
      "source": [
        "torch.manual_seed(1234)\n",
        "CNNmodel = ConvolutionalNetwork()\n",
        "criterion = nn.CrossEntropyLoss()\n",
        "optimizer = torch.optim.AdamW(CNNmodel.parameters(), lr=0.001)"
      ]
    },
    {
      "cell_type": "code",
      "execution_count": 39,
      "metadata": {
        "colab": {
          "base_uri": "https://localhost:8080/"
        },
        "id": "GaRr-F56zTSj",
        "outputId": "54925d17-6452-4d2a-c230-92a5ad120ed5"
      },
      "outputs": [
        {
          "output_type": "execute_result",
          "data": {
            "text/plain": [
              "ConvolutionalNetwork(\n",
              "  (conv1): Conv2d(3, 6, kernel_size=(3, 3), stride=(1, 1))\n",
              "  (conv2): Conv2d(6, 16, kernel_size=(3, 3), stride=(1, 1))\n",
              "  (conv3): Conv2d(16, 32, kernel_size=(3, 3), stride=(1, 1))\n",
              "  (conv4): Conv2d(32, 64, kernel_size=(3, 3), stride=(1, 1))\n",
              "  (dr): Dropout(p=0.25, inplace=False)\n",
              "  (bn1): BatchNorm2d(6, eps=1e-05, momentum=0.1, affine=True, track_running_stats=True)\n",
              "  (bn2): BatchNorm2d(16, eps=1e-05, momentum=0.1, affine=True, track_running_stats=True)\n",
              "  (bn3): BatchNorm2d(32, eps=1e-05, momentum=0.1, affine=True, track_running_stats=True)\n",
              "  (bn4): BatchNorm2d(64, eps=1e-05, momentum=0.1, affine=True, track_running_stats=True)\n",
              "  (fc1): Linear(in_features=5184, out_features=120, bias=True)\n",
              "  (fc2): Linear(in_features=120, out_features=84, bias=True)\n",
              "  (fc3): Linear(in_features=84, out_features=7, bias=True)\n",
              "  (bnc1): BatchNorm1d(120, eps=1e-05, momentum=0.1, affine=True, track_running_stats=True)\n",
              "  (bnc2): BatchNorm1d(84, eps=1e-05, momentum=0.1, affine=True, track_running_stats=True)\n",
              ")"
            ]
          },
          "metadata": {},
          "execution_count": 39
        }
      ],
      "source": [
        "CNNmodel"
      ]
    },
    {
      "cell_type": "markdown",
      "metadata": {
        "id": "zBtWBZ65zV4L"
      },
      "source": [
        "Trainable Parameters"
      ]
    },
    {
      "cell_type": "code",
      "execution_count": 40,
      "metadata": {
        "id": "bLuYHss4zWWL"
      },
      "outputs": [],
      "source": [
        "def count_parameters(model):\n",
        "    params = [p.numel() for p in model.parameters() if p.requires_grad]\n",
        "    for item in params:\n",
        "        print(f'{item:>8}')\n",
        "    print(f'________\\n{sum(params):>8}')"
      ]
    },
    {
      "cell_type": "code",
      "execution_count": 41,
      "metadata": {
        "colab": {
          "base_uri": "https://localhost:8080/"
        },
        "id": "Os9TEhRczZob",
        "outputId": "59f8111f-6c33-4b9f-c49a-bfe719e97b04"
      },
      "outputs": [
        {
          "output_type": "stream",
          "name": "stdout",
          "text": [
            "     162\n",
            "       6\n",
            "     864\n",
            "      16\n",
            "    4608\n",
            "      32\n",
            "   18432\n",
            "      64\n",
            "       6\n",
            "       6\n",
            "      16\n",
            "      16\n",
            "      32\n",
            "      32\n",
            "      64\n",
            "      64\n",
            "  622080\n",
            "     120\n",
            "   10080\n",
            "      84\n",
            "     588\n",
            "       7\n",
            "     120\n",
            "     120\n",
            "      84\n",
            "      84\n",
            "________\n",
            "  657787\n"
          ]
        }
      ],
      "source": [
        "count_parameters(CNNmodel)"
      ]
    },
    {
      "cell_type": "markdown",
      "metadata": {
        "id": "dYqLKYeqzbiq"
      },
      "source": [
        "Train the model"
      ]
    },
    {
      "cell_type": "code",
      "execution_count": 42,
      "metadata": {
        "colab": {
          "base_uri": "https://localhost:8080/"
        },
        "id": "M7qPULoqzb6V",
        "outputId": "6251e826-bcf6-47e9-8cf8-b05865c78ee7"
      },
      "outputs": [
        {
          "output_type": "stream",
          "name": "stdout",
          "text": [
            "epoch:  1  batch:  100 loss: 1.80684340  accuracy:  23.633%\n",
            "epoch:  1  batch:  200 loss: 1.79883206  accuracy:  27.717%\n",
            "epoch:  1  batch:  300 loss: 1.84883392  accuracy:  29.156%\n",
            "epoch:  1  batch:  400 loss: 1.55908716  accuracy:  30.775%\n",
            "epoch:  1  batch:  500 loss: 1.45991337  accuracy:  31.807%\n",
            "epoch:  1  batch:  600 loss: 1.65120196  accuracy:  32.789%\n",
            "epoch:  1  batch:  700 loss: 1.35747194  accuracy:  33.400%\n",
            "epoch:  1  batch:  800 loss: 1.48511922  accuracy:  34.071%\n",
            "epoch:  1  batch:  900 loss: 1.28495359  accuracy:  34.881%\n",
            "epoch:  1  batch:  936 loss: 1.39343262  accuracy:  35.032%\n",
            "epoch:  2  batch:  100 loss: 1.72626698  accuracy:  42.033%\n",
            "epoch:  2  batch:  200 loss: 1.39340699  accuracy:  41.383%\n",
            "epoch:  2  batch:  300 loss: 1.44876826  accuracy:  41.311%\n",
            "epoch:  2  batch:  400 loss: 1.39109612  accuracy:  41.700%\n",
            "epoch:  2  batch:  500 loss: 1.32493162  accuracy:  41.960%\n",
            "epoch:  2  batch:  600 loss: 1.26183665  accuracy:  42.072%\n",
            "epoch:  2  batch:  700 loss: 1.55670321  accuracy:  42.381%\n",
            "epoch:  2  batch:  800 loss: 1.48401845  accuracy:  42.683%\n",
            "epoch:  2  batch:  900 loss: 1.41803885  accuracy:  42.807%\n",
            "epoch:  2  batch:  936 loss: 1.42959356  accuracy:  42.785%\n",
            "epoch:  3  batch:  100 loss: 1.71589363  accuracy:  46.200%\n",
            "epoch:  3  batch:  200 loss: 1.36467707  accuracy:  45.583%\n",
            "epoch:  3  batch:  300 loss: 1.23783994  accuracy:  45.667%\n",
            "epoch:  3  batch:  400 loss: 1.06892717  accuracy:  45.325%\n",
            "epoch:  3  batch:  500 loss: 1.20748019  accuracy:  45.467%\n",
            "epoch:  3  batch:  600 loss: 1.43039489  accuracy:  45.483%\n",
            "epoch:  3  batch:  700 loss: 1.44653761  accuracy:  45.552%\n",
            "epoch:  3  batch:  800 loss: 1.34107661  accuracy:  45.621%\n",
            "epoch:  3  batch:  900 loss: 1.42122924  accuracy:  45.722%\n",
            "epoch:  3  batch:  936 loss: 1.21266484  accuracy:  45.848%\n",
            "epoch:  4  batch:  100 loss: 1.16320181  accuracy:  49.300%\n",
            "epoch:  4  batch:  200 loss: 1.25941133  accuracy:  48.883%\n",
            "epoch:  4  batch:  300 loss: 1.55267310  accuracy:  48.044%\n",
            "epoch:  4  batch:  400 loss: 1.25738084  accuracy:  48.175%\n",
            "epoch:  4  batch:  500 loss: 1.37102902  accuracy:  48.127%\n",
            "epoch:  4  batch:  600 loss: 1.27667320  accuracy:  48.083%\n",
            "epoch:  4  batch:  700 loss: 1.39484239  accuracy:  48.062%\n",
            "epoch:  4  batch:  800 loss: 1.21202433  accuracy:  48.075%\n",
            "epoch:  4  batch:  900 loss: 1.58334625  accuracy:  48.111%\n",
            "epoch:  4  batch:  936 loss: 1.39596570  accuracy:  48.155%\n",
            "epoch:  5  batch:  100 loss: 1.04444325  accuracy:  52.433%\n",
            "epoch:  5  batch:  200 loss: 1.44841826  accuracy:  51.100%\n",
            "epoch:  5  batch:  300 loss: 1.18242371  accuracy:  50.844%\n",
            "epoch:  5  batch:  400 loss: 1.41558003  accuracy:  50.625%\n",
            "epoch:  5  batch:  500 loss: 1.44182789  accuracy:  50.040%\n",
            "epoch:  5  batch:  600 loss: 1.27222311  accuracy:  49.811%\n",
            "epoch:  5  batch:  700 loss: 1.47602713  accuracy:  49.614%\n",
            "epoch:  5  batch:  800 loss: 1.21793866  accuracy:  49.400%\n",
            "epoch:  5  batch:  900 loss: 1.29317403  accuracy:  48.741%\n",
            "epoch:  5  batch:  936 loss: 1.34645140  accuracy:  48.515%\n",
            "epoch:  6  batch:  100 loss: 1.06043458  accuracy:  49.933%\n",
            "epoch:  6  batch:  200 loss: 1.21725845  accuracy:  50.267%\n",
            "epoch:  6  batch:  300 loss: 1.16001952  accuracy:  50.178%\n",
            "epoch:  6  batch:  400 loss: 1.46263969  accuracy:  50.383%\n",
            "epoch:  6  batch:  500 loss: 1.56539881  accuracy:  50.187%\n",
            "epoch:  6  batch:  600 loss: 1.43805826  accuracy:  50.383%\n",
            "epoch:  6  batch:  700 loss: 1.06981897  accuracy:  50.090%\n",
            "epoch:  6  batch:  800 loss: 1.24515736  accuracy:  49.829%\n",
            "epoch:  6  batch:  900 loss: 1.49896049  accuracy:  49.619%\n",
            "epoch:  6  batch:  936 loss: 1.41763568  accuracy:  49.594%\n",
            "epoch:  7  batch:  100 loss: 1.30438352  accuracy:  53.733%\n",
            "epoch:  7  batch:  200 loss: 1.13865650  accuracy:  53.950%\n",
            "epoch:  7  batch:  300 loss: 1.08543801  accuracy:  54.067%\n",
            "epoch:  7  batch:  400 loss: 1.22471237  accuracy:  53.717%\n",
            "epoch:  7  batch:  500 loss: 1.12375641  accuracy:  53.433%\n",
            "epoch:  7  batch:  600 loss: 1.16240311  accuracy:  53.239%\n",
            "epoch:  7  batch:  700 loss: 0.95769703  accuracy:  53.233%\n",
            "epoch:  7  batch:  800 loss: 1.42548954  accuracy:  53.087%\n",
            "epoch:  7  batch:  900 loss: 1.73411977  accuracy:  53.141%\n",
            "epoch:  7  batch:  936 loss: 1.03520536  accuracy:  53.180%\n",
            "epoch:  8  batch:  100 loss: 1.15917921  accuracy:  55.833%\n",
            "epoch:  8  batch:  200 loss: 1.21099603  accuracy:  54.867%\n",
            "epoch:  8  batch:  300 loss: 1.13958788  accuracy:  53.444%\n",
            "epoch:  8  batch:  400 loss: 1.04725564  accuracy:  53.350%\n",
            "epoch:  8  batch:  500 loss: 1.20820498  accuracy:  53.800%\n",
            "epoch:  8  batch:  600 loss: 1.46745837  accuracy:  53.778%\n",
            "epoch:  8  batch:  700 loss: 1.16810942  accuracy:  53.743%\n",
            "epoch:  8  batch:  800 loss: 1.10995460  accuracy:  53.650%\n",
            "epoch:  8  batch:  900 loss: 1.22257257  accuracy:  53.689%\n",
            "epoch:  8  batch:  936 loss: 1.10445356  accuracy:  53.811%\n",
            "epoch:  9  batch:  100 loss: 1.23544192  accuracy:  56.967%\n",
            "epoch:  9  batch:  200 loss: 0.73536873  accuracy:  57.967%\n",
            "epoch:  9  batch:  300 loss: 0.90084499  accuracy:  58.133%\n",
            "epoch:  9  batch:  400 loss: 0.78647423  accuracy:  57.642%\n",
            "epoch:  9  batch:  500 loss: 0.96067023  accuracy:  57.433%\n",
            "epoch:  9  batch:  600 loss: 1.04326987  accuracy:  57.250%\n",
            "epoch:  9  batch:  700 loss: 1.22367489  accuracy:  57.324%\n",
            "epoch:  9  batch:  800 loss: 1.00005448  accuracy:  57.175%\n",
            "epoch:  9  batch:  900 loss: 0.90750808  accuracy:  57.041%\n",
            "epoch:  9  batch:  936 loss: 0.97996449  accuracy:  57.048%\n",
            "epoch: 10  batch:  100 loss: 1.11560214  accuracy:  61.633%\n",
            "epoch: 10  batch:  200 loss: 0.90600526  accuracy:  60.717%\n",
            "epoch: 10  batch:  300 loss: 1.12201393  accuracy:  60.111%\n",
            "epoch: 10  batch:  400 loss: 0.87410545  accuracy:  59.950%\n",
            "epoch: 10  batch:  500 loss: 1.35208642  accuracy:  59.627%\n",
            "epoch: 10  batch:  600 loss: 1.11101329  accuracy:  59.522%\n",
            "epoch: 10  batch:  700 loss: 1.18414962  accuracy:  59.490%\n",
            "epoch: 10  batch:  800 loss: 0.80858594  accuracy:  59.317%\n",
            "epoch: 10  batch:  900 loss: 0.90774006  accuracy:  59.193%\n",
            "epoch: 10  batch:  936 loss: 1.33253288  accuracy:  59.163%\n",
            "epoch: 11  batch:  100 loss: 0.80910015  accuracy:  61.333%\n",
            "epoch: 11  batch:  200 loss: 0.80430329  accuracy:  61.983%\n",
            "epoch: 11  batch:  300 loss: 1.01862800  accuracy:  60.622%\n",
            "epoch: 11  batch:  400 loss: 0.75771821  accuracy:  60.208%\n",
            "epoch: 11  batch:  500 loss: 0.87935108  accuracy:  60.027%\n",
            "epoch: 11  batch:  600 loss: 0.97003019  accuracy:  60.028%\n",
            "epoch: 11  batch:  700 loss: 0.98662460  accuracy:  59.519%\n",
            "epoch: 11  batch:  800 loss: 0.91924989  accuracy:  59.362%\n",
            "epoch: 11  batch:  900 loss: 1.73537183  accuracy:  59.378%\n",
            "epoch: 11  batch:  936 loss: 1.46318603  accuracy:  59.313%\n",
            "epoch: 12  batch:  100 loss: 0.97737503  accuracy:  62.200%\n",
            "epoch: 12  batch:  200 loss: 1.20520365  accuracy:  62.883%\n",
            "epoch: 12  batch:  300 loss: 0.87878060  accuracy:  63.122%\n",
            "epoch: 12  batch:  400 loss: 0.97660136  accuracy:  62.975%\n",
            "epoch: 12  batch:  500 loss: 0.61262965  accuracy:  63.100%\n",
            "epoch: 12  batch:  600 loss: 0.59676814  accuracy:  63.006%\n",
            "epoch: 12  batch:  700 loss: 1.27892816  accuracy:  62.533%\n",
            "epoch: 12  batch:  800 loss: 0.66799724  accuracy:  61.996%\n",
            "epoch: 12  batch:  900 loss: 0.96084911  accuracy:  61.504%\n",
            "epoch: 12  batch:  936 loss: 1.06357944  accuracy:  61.407%\n",
            "epoch: 13  batch:  100 loss: 1.05035698  accuracy:  62.267%\n",
            "epoch: 13  batch:  200 loss: 0.97050768  accuracy:  61.950%\n",
            "epoch: 13  batch:  300 loss: 0.67977881  accuracy:  62.456%\n",
            "epoch: 13  batch:  400 loss: 0.75795394  accuracy:  62.717%\n",
            "epoch: 13  batch:  500 loss: 1.20215666  accuracy:  62.887%\n",
            "epoch: 13  batch:  600 loss: 0.75280267  accuracy:  63.017%\n",
            "epoch: 13  batch:  700 loss: 1.26028979  accuracy:  63.110%\n",
            "epoch: 13  batch:  800 loss: 1.18027127  accuracy:  63.062%\n",
            "epoch: 13  batch:  900 loss: 0.98251688  accuracy:  62.996%\n",
            "epoch: 13  batch:  936 loss: 1.13748956  accuracy:  62.977%\n",
            "epoch: 14  batch:  100 loss: 1.07135093  accuracy:  68.800%\n",
            "epoch: 14  batch:  200 loss: 0.80008894  accuracy:  67.917%\n",
            "epoch: 14  batch:  300 loss: 0.88285083  accuracy:  67.556%\n",
            "epoch: 14  batch:  400 loss: 0.91913152  accuracy:  67.392%\n",
            "epoch: 14  batch:  500 loss: 0.80003619  accuracy:  66.940%\n",
            "epoch: 14  batch:  600 loss: 1.05553746  accuracy:  66.650%\n",
            "epoch: 14  batch:  700 loss: 0.84905881  accuracy:  66.433%\n",
            "epoch: 14  batch:  800 loss: 1.14644349  accuracy:  66.246%\n",
            "epoch: 14  batch:  900 loss: 0.99289918  accuracy:  66.093%\n",
            "epoch: 14  batch:  936 loss: 0.89571100  accuracy:  65.944%\n",
            "epoch: 15  batch:  100 loss: 0.45286712  accuracy:  68.033%\n",
            "epoch: 15  batch:  200 loss: 1.00441551  accuracy:  68.067%\n",
            "epoch: 15  batch:  300 loss: 1.04993653  accuracy:  67.711%\n",
            "epoch: 15  batch:  400 loss: 0.64079052  accuracy:  66.883%\n",
            "epoch: 15  batch:  500 loss: 0.77935678  accuracy:  66.653%\n",
            "epoch: 15  batch:  600 loss: 0.70972019  accuracy:  66.550%\n",
            "epoch: 15  batch:  700 loss: 0.71003252  accuracy:  66.495%\n",
            "epoch: 15  batch:  800 loss: 0.93854839  accuracy:  66.338%\n",
            "epoch: 15  batch:  900 loss: 1.08633459  accuracy:  66.085%\n",
            "epoch: 15  batch:  936 loss: 0.95118636  accuracy:  65.972%\n",
            "epoch: 16  batch:  100 loss: 0.62262821  accuracy:  67.867%\n",
            "epoch: 16  batch:  200 loss: 0.56363088  accuracy:  68.567%\n",
            "epoch: 16  batch:  300 loss: 0.76491368  accuracy:  68.767%\n",
            "epoch: 16  batch:  400 loss: 0.57835382  accuracy:  68.633%\n",
            "epoch: 16  batch:  500 loss: 0.69090813  accuracy:  68.413%\n",
            "epoch: 16  batch:  600 loss: 0.65756631  accuracy:  68.272%\n",
            "epoch: 16  batch:  700 loss: 1.08662450  accuracy:  67.929%\n",
            "epoch: 16  batch:  800 loss: 0.89218485  accuracy:  67.779%\n",
            "epoch: 16  batch:  900 loss: 0.79196042  accuracy:  67.585%\n",
            "epoch: 16  batch:  936 loss: 0.93999302  accuracy:  67.486%\n",
            "epoch: 17  batch:  100 loss: 0.66932702  accuracy:  64.900%\n",
            "epoch: 17  batch:  200 loss: 1.08278823  accuracy:  66.183%\n",
            "epoch: 17  batch:  300 loss: 0.80068982  accuracy:  66.944%\n",
            "epoch: 17  batch:  400 loss: 0.80137640  accuracy:  67.508%\n",
            "epoch: 17  batch:  500 loss: 0.70999455  accuracy:  67.967%\n",
            "epoch: 17  batch:  600 loss: 0.95303249  accuracy:  68.206%\n",
            "epoch: 17  batch:  700 loss: 0.55499136  accuracy:  68.238%\n",
            "epoch: 17  batch:  800 loss: 0.67809623  accuracy:  68.071%\n",
            "epoch: 17  batch:  900 loss: 0.64090753  accuracy:  68.052%\n",
            "epoch: 17  batch:  936 loss: 0.87306696  accuracy:  68.034%\n",
            "epoch: 18  batch:  100 loss: 0.72525090  accuracy:  70.500%\n",
            "epoch: 18  batch:  200 loss: 0.69301784  accuracy:  67.717%\n",
            "epoch: 18  batch:  300 loss: 0.82701808  accuracy:  67.711%\n",
            "epoch: 18  batch:  400 loss: 0.57539368  accuracy:  67.517%\n",
            "epoch: 18  batch:  500 loss: 0.59945768  accuracy:  67.587%\n",
            "epoch: 18  batch:  600 loss: 0.73211688  accuracy:  67.694%\n",
            "epoch: 18  batch:  700 loss: 0.82812840  accuracy:  67.733%\n",
            "epoch: 18  batch:  800 loss: 0.38531408  accuracy:  67.746%\n",
            "epoch: 18  batch:  900 loss: 1.00879550  accuracy:  67.333%\n",
            "epoch: 18  batch:  936 loss: 0.78557664  accuracy:  67.208%\n",
            "epoch: 19  batch:  100 loss: 0.75142401  accuracy:  71.833%\n",
            "epoch: 19  batch:  200 loss: 0.39253566  accuracy:  71.533%\n",
            "epoch: 19  batch:  300 loss: 0.48569191  accuracy:  71.444%\n",
            "epoch: 19  batch:  400 loss: 0.70392251  accuracy:  71.425%\n",
            "epoch: 19  batch:  500 loss: 0.52924597  accuracy:  71.153%\n",
            "epoch: 19  batch:  600 loss: 0.64156401  accuracy:  71.150%\n",
            "epoch: 19  batch:  700 loss: 0.80317771  accuracy:  70.805%\n",
            "epoch: 19  batch:  800 loss: 0.59556460  accuracy:  70.621%\n",
            "epoch: 19  batch:  900 loss: 0.96778023  accuracy:  70.393%\n",
            "epoch: 19  batch:  936 loss: 0.83917820  accuracy:  70.353%\n",
            "epoch: 20  batch:  100 loss: 0.88918781  accuracy:  72.467%\n",
            "epoch: 20  batch:  200 loss: 0.42456466  accuracy:  72.483%\n",
            "epoch: 20  batch:  300 loss: 0.57981998  accuracy:  72.089%\n",
            "epoch: 20  batch:  400 loss: 0.78969741  accuracy:  72.100%\n",
            "epoch: 20  batch:  500 loss: 0.49286345  accuracy:  72.040%\n",
            "epoch: 20  batch:  600 loss: 1.00092268  accuracy:  72.011%\n",
            "epoch: 20  batch:  700 loss: 0.81007713  accuracy:  71.933%\n",
            "epoch: 20  batch:  800 loss: 0.74191016  accuracy:  71.917%\n",
            "epoch: 20  batch:  900 loss: 0.97653294  accuracy:  71.819%\n",
            "epoch: 20  batch:  936 loss: 0.76023966  accuracy:  71.802%\n",
            "epoch: 21  batch:  100 loss: 0.72820944  accuracy:  72.433%\n",
            "epoch: 21  batch:  200 loss: 0.82624853  accuracy:  70.600%\n",
            "epoch: 21  batch:  300 loss: 0.75566107  accuracy:  70.744%\n",
            "epoch: 21  batch:  400 loss: 0.70024627  accuracy:  70.733%\n",
            "epoch: 21  batch:  500 loss: 0.66959196  accuracy:  71.427%\n",
            "epoch: 21  batch:  600 loss: 0.85121566  accuracy:  71.194%\n",
            "epoch: 21  batch:  700 loss: 0.57017386  accuracy:  71.233%\n",
            "epoch: 21  batch:  800 loss: 0.70209801  accuracy:  71.179%\n",
            "epoch: 21  batch:  900 loss: 0.57738632  accuracy:  71.170%\n",
            "epoch: 21  batch:  936 loss: 0.57443291  accuracy:  71.165%\n",
            "epoch: 22  batch:  100 loss: 0.55501467  accuracy:  74.833%\n",
            "epoch: 22  batch:  200 loss: 0.42909041  accuracy:  75.050%\n",
            "epoch: 22  batch:  300 loss: 0.76916099  accuracy:  74.778%\n",
            "epoch: 22  batch:  400 loss: 0.73132080  accuracy:  73.692%\n",
            "epoch: 22  batch:  500 loss: 0.84862000  accuracy:  73.320%\n",
            "epoch: 22  batch:  600 loss: 0.60603988  accuracy:  73.178%\n",
            "epoch: 22  batch:  700 loss: 0.43485016  accuracy:  73.290%\n",
            "epoch: 22  batch:  800 loss: 0.92113876  accuracy:  73.075%\n",
            "epoch: 22  batch:  900 loss: 1.04578352  accuracy:  72.974%\n",
            "epoch: 22  batch:  936 loss: 0.75242496  accuracy:  72.970%\n",
            "epoch: 23  batch:  100 loss: 0.48047721  accuracy:  75.267%\n",
            "epoch: 23  batch:  200 loss: 0.99206638  accuracy:  75.133%\n",
            "epoch: 23  batch:  300 loss: 0.32570589  accuracy:  74.933%\n",
            "epoch: 23  batch:  400 loss: 0.75973284  accuracy:  74.942%\n",
            "epoch: 23  batch:  500 loss: 0.46997452  accuracy:  74.367%\n",
            "epoch: 23  batch:  600 loss: 0.65761721  accuracy:  73.872%\n",
            "epoch: 23  batch:  700 loss: 0.48959166  accuracy:  73.486%\n",
            "epoch: 23  batch:  800 loss: 0.87606072  accuracy:  73.283%\n",
            "epoch: 23  batch:  900 loss: 0.47097868  accuracy:  73.204%\n",
            "epoch: 23  batch:  936 loss: 0.58204263  accuracy:  73.095%\n",
            "epoch: 24  batch:  100 loss: 0.53145009  accuracy:  75.867%\n",
            "epoch: 24  batch:  200 loss: 0.54207462  accuracy:  75.683%\n",
            "epoch: 24  batch:  300 loss: 0.60600126  accuracy:  75.111%\n",
            "epoch: 24  batch:  400 loss: 0.78515202  accuracy:  74.983%\n",
            "epoch: 24  batch:  500 loss: 0.50853032  accuracy:  74.560%\n",
            "epoch: 24  batch:  600 loss: 0.72848785  accuracy:  74.611%\n",
            "epoch: 24  batch:  700 loss: 0.72077274  accuracy:  74.190%\n",
            "epoch: 24  batch:  800 loss: 0.99835372  accuracy:  73.979%\n",
            "epoch: 24  batch:  900 loss: 0.62849003  accuracy:  73.715%\n",
            "epoch: 24  batch:  936 loss: 0.69475162  accuracy:  73.682%\n",
            "epoch: 25  batch:  100 loss: 0.60381490  accuracy:  75.000%\n",
            "epoch: 25  batch:  200 loss: 0.96229750  accuracy:  75.133%\n",
            "epoch: 25  batch:  300 loss: 0.52883166  accuracy:  74.911%\n",
            "epoch: 25  batch:  400 loss: 0.46590245  accuracy:  74.883%\n",
            "epoch: 25  batch:  500 loss: 0.51653683  accuracy:  74.473%\n",
            "epoch: 25  batch:  600 loss: 0.54395419  accuracy:  74.489%\n",
            "epoch: 25  batch:  700 loss: 0.58253950  accuracy:  74.433%\n",
            "epoch: 25  batch:  800 loss: 0.41936862  accuracy:  74.333%\n",
            "epoch: 25  batch:  900 loss: 0.69119298  accuracy:  74.189%\n",
            "epoch: 25  batch:  936 loss: 0.65148222  accuracy:  74.103%\n",
            "epoch: 26  batch:  100 loss: 0.48061603  accuracy:  77.033%\n",
            "epoch: 26  batch:  200 loss: 0.37354010  accuracy:  75.983%\n",
            "epoch: 26  batch:  300 loss: 0.35916039  accuracy:  76.122%\n",
            "epoch: 26  batch:  400 loss: 0.54615241  accuracy:  75.958%\n",
            "epoch: 26  batch:  500 loss: 0.62730658  accuracy:  75.733%\n",
            "epoch: 26  batch:  600 loss: 0.36206499  accuracy:  75.750%\n",
            "epoch: 26  batch:  700 loss: 0.44924137  accuracy:  75.624%\n",
            "epoch: 26  batch:  800 loss: 0.52655244  accuracy:  75.513%\n",
            "epoch: 26  batch:  900 loss: 0.91668642  accuracy:  75.207%\n",
            "epoch: 26  batch:  936 loss: 0.61965066  accuracy:  75.153%\n",
            "epoch: 27  batch:  100 loss: 0.81764072  accuracy:  75.367%\n",
            "epoch: 27  batch:  200 loss: 0.45142704  accuracy:  75.983%\n",
            "epoch: 27  batch:  300 loss: 0.49354669  accuracy:  75.267%\n",
            "epoch: 27  batch:  400 loss: 0.40738735  accuracy:  75.508%\n",
            "epoch: 27  batch:  500 loss: 0.41184762  accuracy:  75.407%\n",
            "epoch: 27  batch:  600 loss: 0.50014287  accuracy:  75.239%\n",
            "epoch: 27  batch:  700 loss: 0.50699258  accuracy:  75.233%\n",
            "epoch: 27  batch:  800 loss: 0.66169339  accuracy:  75.217%\n",
            "epoch: 27  batch:  900 loss: 0.72734725  accuracy:  75.063%\n",
            "epoch: 27  batch:  936 loss: 0.82987750  accuracy:  75.150%\n",
            "epoch: 28  batch:  100 loss: 0.54109019  accuracy:  73.300%\n",
            "epoch: 28  batch:  200 loss: 0.49423179  accuracy:  74.767%\n",
            "epoch: 28  batch:  300 loss: 0.58267188  accuracy:  74.800%\n",
            "epoch: 28  batch:  400 loss: 0.45580992  accuracy:  74.942%\n",
            "epoch: 28  batch:  500 loss: 0.46694443  accuracy:  75.200%\n",
            "epoch: 28  batch:  600 loss: 0.43733370  accuracy:  75.094%\n",
            "epoch: 28  batch:  700 loss: 0.50059813  accuracy:  75.286%\n",
            "epoch: 28  batch:  800 loss: 0.90429765  accuracy:  75.237%\n",
            "epoch: 28  batch:  900 loss: 0.47911114  accuracy:  75.181%\n",
            "epoch: 28  batch:  936 loss: 0.49678415  accuracy:  75.185%\n",
            "epoch: 29  batch:  100 loss: 0.36568391  accuracy:  79.167%\n",
            "epoch: 29  batch:  200 loss: 0.65439647  accuracy:  78.333%\n",
            "epoch: 29  batch:  300 loss: 0.52437532  accuracy:  77.578%\n",
            "epoch: 29  batch:  400 loss: 0.53996140  accuracy:  77.275%\n",
            "epoch: 29  batch:  500 loss: 0.66037047  accuracy:  76.920%\n",
            "epoch: 29  batch:  600 loss: 0.82017714  accuracy:  76.778%\n",
            "epoch: 29  batch:  700 loss: 0.72245181  accuracy:  76.876%\n",
            "epoch: 29  batch:  800 loss: 0.73772359  accuracy:  76.833%\n",
            "epoch: 29  batch:  900 loss: 0.71695620  accuracy:  76.741%\n",
            "epoch: 29  batch:  936 loss: 0.65107626  accuracy:  76.656%\n",
            "epoch: 30  batch:  100 loss: 0.46187481  accuracy:  78.567%\n",
            "epoch: 30  batch:  200 loss: 0.53256369  accuracy:  77.767%\n",
            "epoch: 30  batch:  300 loss: 0.45515689  accuracy:  77.256%\n",
            "epoch: 30  batch:  400 loss: 0.54834902  accuracy:  77.075%\n",
            "epoch: 30  batch:  500 loss: 0.52202719  accuracy:  77.127%\n",
            "epoch: 30  batch:  600 loss: 0.61985838  accuracy:  77.089%\n",
            "epoch: 30  batch:  700 loss: 0.65473872  accuracy:  76.952%\n",
            "epoch: 30  batch:  800 loss: 0.54700226  accuracy:  76.875%\n",
            "epoch: 30  batch:  900 loss: 0.52552009  accuracy:  76.874%\n",
            "epoch: 30  batch:  936 loss: 0.67038083  accuracy:  76.809%\n",
            "epoch: 31  batch:  100 loss: 0.75455368  accuracy:  77.233%\n",
            "epoch: 31  batch:  200 loss: 0.49656186  accuracy:  77.567%\n",
            "epoch: 31  batch:  300 loss: 0.52190089  accuracy:  77.611%\n",
            "epoch: 31  batch:  400 loss: 0.37172687  accuracy:  77.350%\n",
            "epoch: 31  batch:  500 loss: 1.09940970  accuracy:  77.353%\n",
            "epoch: 31  batch:  600 loss: 0.39717725  accuracy:  77.033%\n",
            "epoch: 31  batch:  700 loss: 0.79199368  accuracy:  76.943%\n",
            "epoch: 31  batch:  800 loss: 0.40663996  accuracy:  76.950%\n",
            "epoch: 31  batch:  900 loss: 0.49383974  accuracy:  76.833%\n",
            "epoch: 31  batch:  936 loss: 0.68853170  accuracy:  76.766%\n",
            "epoch: 32  batch:  100 loss: 0.31219479  accuracy:  78.133%\n",
            "epoch: 32  batch:  200 loss: 0.51249570  accuracy:  77.833%\n",
            "epoch: 32  batch:  300 loss: 0.69528425  accuracy:  77.556%\n",
            "epoch: 32  batch:  400 loss: 0.34163326  accuracy:  77.533%\n",
            "epoch: 32  batch:  500 loss: 0.44982108  accuracy:  77.647%\n",
            "epoch: 32  batch:  600 loss: 0.38180223  accuracy:  77.367%\n",
            "epoch: 32  batch:  700 loss: 0.67526001  accuracy:  77.267%\n",
            "epoch: 32  batch:  800 loss: 0.46001545  accuracy:  77.183%\n",
            "epoch: 32  batch:  900 loss: 0.63743967  accuracy:  77.174%\n",
            "epoch: 32  batch:  936 loss: 0.58249199  accuracy:  77.140%\n",
            "epoch: 33  batch:  100 loss: 0.39122078  accuracy:  78.733%\n",
            "epoch: 33  batch:  200 loss: 0.42824742  accuracy:  77.917%\n",
            "epoch: 33  batch:  300 loss: 0.53535706  accuracy:  77.500%\n",
            "epoch: 33  batch:  400 loss: 0.63909709  accuracy:  77.283%\n",
            "epoch: 33  batch:  500 loss: 0.50208020  accuracy:  77.193%\n",
            "epoch: 33  batch:  600 loss: 0.26554283  accuracy:  77.233%\n",
            "epoch: 33  batch:  700 loss: 0.44199726  accuracy:  77.295%\n",
            "epoch: 33  batch:  800 loss: 1.02629924  accuracy:  77.221%\n",
            "epoch: 33  batch:  900 loss: 0.50452626  accuracy:  77.048%\n",
            "epoch: 33  batch:  936 loss: 0.40885589  accuracy:  76.998%\n",
            "epoch: 34  batch:  100 loss: 0.28995121  accuracy:  79.333%\n",
            "epoch: 34  batch:  200 loss: 0.45146900  accuracy:  79.250%\n",
            "epoch: 34  batch:  300 loss: 0.56453550  accuracy:  78.600%\n",
            "epoch: 34  batch:  400 loss: 0.37013903  accuracy:  78.367%\n",
            "epoch: 34  batch:  500 loss: 0.39741975  accuracy:  78.687%\n",
            "epoch: 34  batch:  600 loss: 0.56844515  accuracy:  78.533%\n",
            "epoch: 34  batch:  700 loss: 0.40462780  accuracy:  78.086%\n",
            "epoch: 34  batch:  800 loss: 0.49630576  accuracy:  77.896%\n",
            "epoch: 34  batch:  900 loss: 0.46127495  accuracy:  77.804%\n",
            "epoch: 34  batch:  936 loss: 0.36056378  accuracy:  77.767%\n",
            "epoch: 35  batch:  100 loss: 0.38309175  accuracy:  79.033%\n",
            "epoch: 35  batch:  200 loss: 0.24004945  accuracy:  78.600%\n",
            "epoch: 35  batch:  300 loss: 0.50222635  accuracy:  78.600%\n",
            "epoch: 35  batch:  400 loss: 0.47866824  accuracy:  78.358%\n",
            "epoch: 35  batch:  500 loss: 0.34205905  accuracy:  78.187%\n",
            "epoch: 35  batch:  600 loss: 0.42795861  accuracy:  78.039%\n",
            "epoch: 35  batch:  700 loss: 0.51499128  accuracy:  77.962%\n",
            "epoch: 35  batch:  800 loss: 0.49390396  accuracy:  77.796%\n",
            "epoch: 35  batch:  900 loss: 0.60704654  accuracy:  77.526%\n",
            "epoch: 35  batch:  936 loss: 0.36631277  accuracy:  77.500%\n",
            "epoch: 36  batch:  100 loss: 0.30666438  accuracy:  78.767%\n",
            "epoch: 36  batch:  200 loss: 0.55449957  accuracy:  78.417%\n",
            "epoch: 36  batch:  300 loss: 0.59398538  accuracy:  78.433%\n",
            "epoch: 36  batch:  400 loss: 0.48161092  accuracy:  78.150%\n",
            "epoch: 36  batch:  500 loss: 0.63928598  accuracy:  77.940%\n",
            "epoch: 36  batch:  600 loss: 0.48528349  accuracy:  77.911%\n",
            "epoch: 36  batch:  700 loss: 0.60218233  accuracy:  77.957%\n",
            "epoch: 36  batch:  800 loss: 0.30349147  accuracy:  78.033%\n",
            "epoch: 36  batch:  900 loss: 0.47936514  accuracy:  77.830%\n",
            "epoch: 36  batch:  936 loss: 0.36858720  accuracy:  77.753%\n",
            "epoch: 37  batch:  100 loss: 0.52818632  accuracy:  79.600%\n",
            "epoch: 37  batch:  200 loss: 0.63826305  accuracy:  78.267%\n",
            "epoch: 37  batch:  300 loss: 0.42427689  accuracy:  78.233%\n",
            "epoch: 37  batch:  400 loss: 0.64055651  accuracy:  78.208%\n",
            "epoch: 37  batch:  500 loss: 0.56572610  accuracy:  78.113%\n",
            "epoch: 37  batch:  600 loss: 0.57702225  accuracy:  77.450%\n",
            "epoch: 37  batch:  700 loss: 0.18172783  accuracy:  77.505%\n",
            "epoch: 37  batch:  800 loss: 0.34780326  accuracy:  77.492%\n",
            "epoch: 37  batch:  900 loss: 0.90196013  accuracy:  77.481%\n",
            "epoch: 37  batch:  936 loss: 0.69207221  accuracy:  77.464%\n",
            "epoch: 38  batch:  100 loss: 0.53398567  accuracy:  77.833%\n",
            "epoch: 38  batch:  200 loss: 0.70051205  accuracy:  78.000%\n",
            "epoch: 38  batch:  300 loss: 0.45181626  accuracy:  78.411%\n",
            "epoch: 38  batch:  400 loss: 0.41584742  accuracy:  78.775%\n",
            "epoch: 38  batch:  500 loss: 0.53197610  accuracy:  78.560%\n",
            "epoch: 38  batch:  600 loss: 0.42312738  accuracy:  78.411%\n",
            "epoch: 38  batch:  700 loss: 0.31185666  accuracy:  78.219%\n",
            "epoch: 38  batch:  800 loss: 0.41210124  accuracy:  78.229%\n",
            "epoch: 38  batch:  900 loss: 0.61439699  accuracy:  78.241%\n",
            "epoch: 38  batch:  936 loss: 0.48882544  accuracy:  78.223%\n",
            "epoch: 39  batch:  100 loss: 0.48618731  accuracy:  79.200%\n",
            "epoch: 39  batch:  200 loss: 0.90161973  accuracy:  79.600%\n",
            "epoch: 39  batch:  300 loss: 0.53314441  accuracy:  79.644%\n",
            "epoch: 39  batch:  400 loss: 0.45976144  accuracy:  79.167%\n",
            "epoch: 39  batch:  500 loss: 0.45415065  accuracy:  79.080%\n",
            "epoch: 39  batch:  600 loss: 0.36667129  accuracy:  78.828%\n",
            "epoch: 39  batch:  700 loss: 0.23069471  accuracy:  78.714%\n",
            "epoch: 39  batch:  800 loss: 1.14650285  accuracy:  77.958%\n",
            "epoch: 39  batch:  900 loss: 0.92061490  accuracy:  77.174%\n",
            "epoch: 39  batch:  936 loss: 0.42452320  accuracy:  77.058%\n",
            "epoch: 40  batch:  100 loss: 0.35178372  accuracy:  76.967%\n",
            "epoch: 40  batch:  200 loss: 0.38191319  accuracy:  76.800%\n",
            "epoch: 40  batch:  300 loss: 0.73128682  accuracy:  76.956%\n",
            "epoch: 40  batch:  400 loss: 0.51209468  accuracy:  77.592%\n",
            "epoch: 40  batch:  500 loss: 0.50024188  accuracy:  77.660%\n",
            "epoch: 40  batch:  600 loss: 0.23183663  accuracy:  77.950%\n",
            "epoch: 40  batch:  700 loss: 0.47008145  accuracy:  78.052%\n",
            "epoch: 40  batch:  800 loss: 0.69179398  accuracy:  77.854%\n",
            "epoch: 40  batch:  900 loss: 0.64269859  accuracy:  77.941%\n",
            "epoch: 40  batch:  936 loss: 0.24104881  accuracy:  77.977%\n",
            "epoch: 41  batch:  100 loss: 0.31206447  accuracy:  80.800%\n",
            "epoch: 41  batch:  200 loss: 0.50144917  accuracy:  80.467%\n",
            "epoch: 41  batch:  300 loss: 0.36481839  accuracy:  80.167%\n",
            "epoch: 41  batch:  400 loss: 0.21072672  accuracy:  79.767%\n",
            "epoch: 41  batch:  500 loss: 0.42494741  accuracy:  79.620%\n",
            "epoch: 41  batch:  600 loss: 0.36028561  accuracy:  79.356%\n",
            "epoch: 41  batch:  700 loss: 0.54744810  accuracy:  79.224%\n",
            "epoch: 41  batch:  800 loss: 0.44319469  accuracy:  79.283%\n",
            "epoch: 41  batch:  900 loss: 0.47402552  accuracy:  79.152%\n",
            "epoch: 41  batch:  936 loss: 0.44344494  accuracy:  79.145%\n",
            "epoch: 42  batch:  100 loss: 0.53799576  accuracy:  80.467%\n",
            "epoch: 42  batch:  200 loss: 0.54200631  accuracy:  80.417%\n",
            "epoch: 42  batch:  300 loss: 0.62716931  accuracy:  80.067%\n",
            "epoch: 42  batch:  400 loss: 0.34084511  accuracy:  79.967%\n",
            "epoch: 42  batch:  500 loss: 0.40443045  accuracy:  79.947%\n",
            "epoch: 42  batch:  600 loss: 0.43634510  accuracy:  79.761%\n",
            "epoch: 42  batch:  700 loss: 0.46084991  accuracy:  79.438%\n",
            "epoch: 42  batch:  800 loss: 0.31950051  accuracy:  79.296%\n",
            "epoch: 42  batch:  900 loss: 0.42117193  accuracy:  79.252%\n",
            "epoch: 42  batch:  936 loss: 0.19663872  accuracy:  79.259%\n",
            "epoch: 43  batch:  100 loss: 0.40176913  accuracy:  81.000%\n",
            "epoch: 43  batch:  200 loss: 0.17600796  accuracy:  80.650%\n",
            "epoch: 43  batch:  300 loss: 0.31759742  accuracy:  80.211%\n",
            "epoch: 43  batch:  400 loss: 0.57113326  accuracy:  80.117%\n",
            "epoch: 43  batch:  500 loss: 0.39022070  accuracy:  80.020%\n",
            "epoch: 43  batch:  600 loss: 0.55478692  accuracy:  79.911%\n",
            "epoch: 43  batch:  700 loss: 0.55835980  accuracy:  79.852%\n",
            "epoch: 43  batch:  800 loss: 0.27404469  accuracy:  79.825%\n",
            "epoch: 43  batch:  900 loss: 0.57162261  accuracy:  79.559%\n",
            "epoch: 43  batch:  936 loss: 0.43901286  accuracy:  79.537%\n",
            "epoch: 44  batch:  100 loss: 0.46614629  accuracy:  80.233%\n",
            "epoch: 44  batch:  200 loss: 0.29925099  accuracy:  80.400%\n",
            "epoch: 44  batch:  300 loss: 0.24802230  accuracy:  80.311%\n",
            "epoch: 44  batch:  400 loss: 0.54920554  accuracy:  79.825%\n",
            "epoch: 44  batch:  500 loss: 0.45858398  accuracy:  79.433%\n",
            "epoch: 44  batch:  600 loss: 0.32726142  accuracy:  79.394%\n",
            "epoch: 44  batch:  700 loss: 0.87324959  accuracy:  79.333%\n",
            "epoch: 44  batch:  800 loss: 0.20384148  accuracy:  79.133%\n",
            "epoch: 44  batch:  900 loss: 0.60557288  accuracy:  79.137%\n",
            "epoch: 44  batch:  936 loss: 0.48668811  accuracy:  79.120%\n",
            "epoch: 45  batch:  100 loss: 0.31134477  accuracy:  80.633%\n",
            "epoch: 45  batch:  200 loss: 0.37001950  accuracy:  79.933%\n",
            "epoch: 45  batch:  300 loss: 0.90445840  accuracy:  79.756%\n",
            "epoch: 45  batch:  400 loss: 0.44865090  accuracy:  79.867%\n",
            "epoch: 45  batch:  500 loss: 0.62538630  accuracy:  79.660%\n",
            "epoch: 45  batch:  600 loss: 0.20457046  accuracy:  79.683%\n",
            "epoch: 45  batch:  700 loss: 0.24921037  accuracy:  79.667%\n",
            "epoch: 45  batch:  800 loss: 0.38193646  accuracy:  79.492%\n",
            "epoch: 45  batch:  900 loss: 0.52096361  accuracy:  79.333%\n",
            "epoch: 45  batch:  936 loss: 0.51699924  accuracy:  79.277%\n",
            "epoch: 46  batch:  100 loss: 0.43371296  accuracy:  79.467%\n",
            "epoch: 46  batch:  200 loss: 0.63853359  accuracy:  80.250%\n",
            "epoch: 46  batch:  300 loss: 0.38973045  accuracy:  80.000%\n",
            "epoch: 46  batch:  400 loss: 0.44124669  accuracy:  79.933%\n",
            "epoch: 46  batch:  500 loss: 0.41532999  accuracy:  79.753%\n",
            "epoch: 46  batch:  600 loss: 0.34012470  accuracy:  79.661%\n",
            "epoch: 46  batch:  700 loss: 0.38985014  accuracy:  79.395%\n",
            "epoch: 46  batch:  800 loss: 0.22563967  accuracy:  79.379%\n",
            "epoch: 46  batch:  900 loss: 0.30507174  accuracy:  79.304%\n",
            "epoch: 46  batch:  936 loss: 0.47679371  accuracy:  79.270%\n",
            "epoch: 47  batch:  100 loss: 0.68282956  accuracy:  81.033%\n",
            "epoch: 47  batch:  200 loss: 0.49485284  accuracy:  80.283%\n",
            "epoch: 47  batch:  300 loss: 0.31861365  accuracy:  79.900%\n",
            "epoch: 47  batch:  400 loss: 0.47299910  accuracy:  80.150%\n",
            "epoch: 47  batch:  500 loss: 0.44104150  accuracy:  80.013%\n",
            "epoch: 47  batch:  600 loss: 0.45174357  accuracy:  80.050%\n",
            "epoch: 47  batch:  700 loss: 0.67390347  accuracy:  80.005%\n",
            "epoch: 47  batch:  800 loss: 0.59991544  accuracy:  79.888%\n",
            "epoch: 47  batch:  900 loss: 0.68809301  accuracy:  79.800%\n",
            "epoch: 47  batch:  936 loss: 0.69396102  accuracy:  79.779%\n",
            "epoch: 48  batch:  100 loss: 0.34216902  accuracy:  80.033%\n",
            "epoch: 48  batch:  200 loss: 0.49422520  accuracy:  79.533%\n",
            "epoch: 48  batch:  300 loss: 0.57221866  accuracy:  79.844%\n",
            "epoch: 48  batch:  400 loss: 0.90939587  accuracy:  79.858%\n",
            "epoch: 48  batch:  500 loss: 0.21069866  accuracy:  79.713%\n",
            "epoch: 48  batch:  600 loss: 0.44587430  accuracy:  79.728%\n",
            "epoch: 48  batch:  700 loss: 0.38563901  accuracy:  79.971%\n",
            "epoch: 48  batch:  800 loss: 0.56404746  accuracy:  79.908%\n",
            "epoch: 48  batch:  900 loss: 0.69572091  accuracy:  79.874%\n",
            "epoch: 48  batch:  936 loss: 0.68259996  accuracy:  79.829%\n",
            "epoch: 49  batch:  100 loss: 0.61834043  accuracy:  80.400%\n",
            "epoch: 49  batch:  200 loss: 0.68375838  accuracy:  80.950%\n",
            "epoch: 49  batch:  300 loss: 0.32322341  accuracy:  80.744%\n",
            "epoch: 49  batch:  400 loss: 0.46491957  accuracy:  80.717%\n",
            "epoch: 49  batch:  500 loss: 0.31052217  accuracy:  80.727%\n",
            "epoch: 49  batch:  600 loss: 0.38058770  accuracy:  80.356%\n",
            "epoch: 49  batch:  700 loss: 0.47881517  accuracy:  80.129%\n",
            "epoch: 49  batch:  800 loss: 0.50870931  accuracy:  79.987%\n",
            "epoch: 49  batch:  900 loss: 0.41021580  accuracy:  79.978%\n",
            "epoch: 49  batch:  936 loss: 0.37000936  accuracy:  79.804%\n",
            "epoch: 50  batch:  100 loss: 0.45646223  accuracy:  79.133%\n",
            "epoch: 50  batch:  200 loss: 0.21981360  accuracy:  79.750%\n",
            "epoch: 50  batch:  300 loss: 0.48284858  accuracy:  79.922%\n",
            "epoch: 50  batch:  400 loss: 0.52733785  accuracy:  79.808%\n",
            "epoch: 50  batch:  500 loss: 0.36380157  accuracy:  79.880%\n",
            "epoch: 50  batch:  600 loss: 0.45029107  accuracy:  80.011%\n",
            "epoch: 50  batch:  700 loss: 0.23856194  accuracy:  79.895%\n",
            "epoch: 50  batch:  800 loss: 0.52670026  accuracy:  79.775%\n",
            "epoch: 50  batch:  900 loss: 0.26514891  accuracy:  79.689%\n",
            "epoch: 50  batch:  936 loss: 0.34572333  accuracy:  79.644%\n",
            "\n",
            "Duration: 10947 seconds\n"
          ]
        }
      ],
      "source": [
        "import time\n",
        "start_time = time.time()\n",
        "\n",
        "epochs = 50\n",
        "\n",
        "max_trn_batch = 936\n",
        "max_tst_batch = 240\n",
        "\n",
        "train_losses = []\n",
        "test_losses = []\n",
        "train_correct = []\n",
        "test_correct = []\n",
        "\n",
        "for i in range(epochs):\n",
        "    trn_corr = 0\n",
        "    tst_corr = 0\n",
        "    \n",
        "    # Run the training batches\n",
        "    CNNmodel.train()\n",
        "    for b, (X_train, y_train) in enumerate(train_loader):\n",
        "        \n",
        "        # Limit the number of batches\n",
        "        if b == max_trn_batch:\n",
        "            break\n",
        "        b+=1\n",
        "        \n",
        "        # Apply the model\n",
        "        y_pred = CNNmodel(X_train)\n",
        "        loss = criterion(y_pred, y_train)\n",
        " \n",
        "        # Tally the number of correct predictions\n",
        "        predicted = torch.max(y_pred.data, 1)[1]\n",
        "        batch_corr = (predicted == y_train).sum()\n",
        "        trn_corr += batch_corr\n",
        "        \n",
        "        # Update parameters\n",
        "        optimizer.zero_grad()\n",
        "        loss.backward()\n",
        "        optimizer.step()\n",
        "\n",
        "        # Print interim results\n",
        "        if b%100 == 0 or b == 936:\n",
        "            acc = trn_corr.item()*100/(30*b)\n",
        "            print(f'epoch: {i+1:2}  batch: {b:4} loss: {loss.item():10.8f}  accuracy: {acc:7.3f}%')\n",
        "\n",
        "    train_losses.append(loss)\n",
        "    train_correct.append(trn_corr)\n",
        "\n",
        "    # Run the testing batches\n",
        "    CNNmodel.eval()\n",
        "    with torch.no_grad():\n",
        "        for b, (X_test, y_test) in enumerate(test_loader):\n",
        "            # Limit the number of batches\n",
        "            if b == max_tst_batch:\n",
        "                break\n",
        "\n",
        "            # Apply the model\n",
        "            y_val = CNNmodel(X_test)\n",
        "\n",
        "            # Tally the number of correct predictions\n",
        "            predicted = torch.max(y_val.data, 1)[1] \n",
        "            tst_corr += (predicted == y_test).sum()\n",
        "\n",
        "    loss = criterion(y_val, y_test)\n",
        "    test_losses.append(loss)\n",
        "    test_correct.append(tst_corr)\n",
        "\n",
        "print(f'\\nDuration: {time.time() - start_time:.0f} seconds') # print the time elapsed"
      ]
    },
    {
      "cell_type": "markdown",
      "metadata": {
        "id": "lZJh7kXe0Lpc"
      },
      "source": [
        "Save the trained model"
      ]
    },
    {
      "cell_type": "code",
      "execution_count": 43,
      "metadata": {
        "id": "m_ldq0mq0LXb"
      },
      "outputs": [],
      "source": [
        "torch.save(CNNmodel.state_dict(), 'CNNModel_EDBOFE.pt')"
      ]
    },
    {
      "cell_type": "markdown",
      "metadata": {
        "id": "3VFPprZ60VlD"
      },
      "source": [
        "Plot loss and accuracy"
      ]
    },
    {
      "cell_type": "code",
      "execution_count": 44,
      "metadata": {
        "id": "nNvs8dP40Ukb",
        "colab": {
          "base_uri": "https://localhost:8080/",
          "height": 299
        },
        "outputId": "93d09d37-8613-4690-a733-3bdd24e8afb2"
      },
      "outputs": [
        {
          "output_type": "execute_result",
          "data": {
            "text/plain": [
              "<matplotlib.legend.Legend at 0x7f5be5f52c90>"
            ]
          },
          "metadata": {},
          "execution_count": 44
        },
        {
          "output_type": "display_data",
          "data": {
            "text/plain": [
              "<Figure size 432x288 with 1 Axes>"
            ],
            "image/png": "[encoded data removed]"
          },
          "metadata": {
            "needs_background": "light"
          }
        }
      ],
      "source": [
        "train_loss = [fl.item() for fl in train_losses]\n",
        "test_loss = [fl.item() for fl in test_losses]\n",
        "plt.plot(train_loss, label='training loss')\n",
        "plt.plot(test_loss, label='test loss')\n",
        "plt.title('Loss at the end of each epoch')\n",
        "plt.legend()"
      ]
    },
    {
      "cell_type": "code",
      "execution_count": 45,
      "metadata": {
        "id": "iguFdt9L0XGb",
        "colab": {
          "base_uri": "https://localhost:8080/",
          "height": 299
        },
        "outputId": "2dbcb580-4274-4912-98ff-dc93629f7ec3"
      },
      "outputs": [
        {
          "output_type": "execute_result",
          "data": {
            "text/plain": [
              "<matplotlib.legend.Legend at 0x7f5bdc1fc1d0>"
            ]
          },
          "metadata": {},
          "execution_count": 45
        },
        {
          "output_type": "display_data",
          "data": {
            "text/plain": [
              "<Figure size 432x288 with 1 Axes>"
            ],
            "image/png": "[encoded data removed]"
          },
          "metadata": {
            "needs_background": "light"
          }
        }
      ],
      "source": [
        "plt.plot([t*100/28079 for t in train_correct], label='training accuracy')\n",
        "plt.plot([t*100/7178 for t in test_correct], label='test accuracy')\n",
        "plt.title('Accuracy at the end of each epoch')\n",
        "plt.legend()"
      ]
    },
    {
      "cell_type": "markdown",
      "metadata": {
        "id": "NdMU965N0ai7"
      },
      "source": [
        "Evaluate test data"
      ]
    },
    {
      "cell_type": "code",
      "execution_count": 46,
      "metadata": {
        "id": "TztZYpaF0bKD",
        "colab": {
          "base_uri": "https://localhost:8080/"
        },
        "outputId": "3e1fdd85-0395-49e9-959e-e3a16f97973b"
      },
      "outputs": [
        {
          "output_type": "stream",
          "name": "stdout",
          "text": [
            "Test accuracy FER2013: 4294/7178 =  59.822%\n"
          ]
        }
      ],
      "source": [
        "# Extract the data all at once, not in batches\n",
        "test_load_fer = DataLoader(test_data, batch_size=7178, shuffle=False)\n",
        "\n",
        "CNNmodel.eval()\n",
        "with torch.no_grad():\n",
        "    correct = 0\n",
        "    for X_test, y_test in test_load_fer:\n",
        "        y_val = CNNmodel(X_test)  \n",
        "        predicted = torch.max(y_val,1)[1]\n",
        "        correct += (predicted == y_test).sum()\n",
        "print(f'Test accuracy FER2013: {correct.item()}/{len(test_data)} = {correct.item()*100/(len(test_data)):7.3f}%')\n",
        "\n",
        "\n",
        "# test_data_ck = datasets.ImageFolder(os.path.join(root, 'CK+_test'), transform=test_transform)\n",
        "# test_load_ck = DataLoader(test_data_ck, batch_size=246, shuffle=False)\n",
        "\n",
        "# with torch.no_grad():\n",
        "#     correct = 0\n",
        "#     for X_test, y_test in test_load_ck:\n",
        "#         y_val = CNNmodel(X_test)  \n",
        "#         predicted = torch.max(y_val,1)[1]\n",
        "#         correct += (predicted == y_test).sum()\n",
        "# print(f'\\nTest accuracy CK+: {correct.item()}/{len(test_data)} = {correct.item()*100/(len(test_data)):7.3f}%')\n",
        "\n",
        "\n",
        "# test_data_jaffe = datasets.ImageFolder(os.path.join(root, 'JAFFE_test'), transform=test_transform)\n",
        "# test_load_jaffe = DataLoader(test_data_jaffe, batch_size=70, shuffle=False)\n",
        "\n",
        "# with torch.no_grad():\n",
        "#     correct = 0\n",
        "#     for X_test, y_test in test_load_jaffe:\n",
        "#         y_val = CNNmodel(X_test)  \n",
        "#         predicted = torch.max(y_val,1)[1]\n",
        "#         correct += (predicted == y_test).sum()\n",
        "# print(f'\\nTest accuracy JAFFE: {correct.item()}/{len(test_data)} = {correct.item()*100/(len(test_data)):7.3f}%')"
      ]
    }
  ],
  "metadata": {
    "accelerator": "GPU",
    "colab": {
      "collapsed_sections": [],
      "machine_shape": "hm",
      "name": "FER2013_Emotion-Detection-Based-On-Facial-Expression.ipynb",
      "provenance": []
    },
    "kernelspec": {
      "display_name": "Python 3",
      "name": "python3"
    },
    "language_info": {
      "name": "python"
    }
  },
  "nbformat": 4,
  "nbformat_minor": 0
}